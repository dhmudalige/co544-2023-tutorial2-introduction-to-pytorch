{
 "cells": [
  {
   "cell_type": "code",
   "execution_count": 1,
   "metadata": {},
   "outputs": [],
   "source": [
    "import torch \n",
    "import torchvision\n",
    "import numpy as np\n",
    "import torch.nn as nn\n",
    "import matplotlib.pyplot as plt\n",
    "from torch.utils.data import DataLoader\n",
    "import torchvision.transforms as transforms"
   ]
  },
  {
   "cell_type": "code",
   "execution_count": 2,
   "metadata": {},
   "outputs": [],
   "source": [
    "train_dataset = torchvision.datasets.MNIST(\n",
    "                    root='./data',\n",
    "                    train=True, \n",
    "                    download=True,\n",
    "                    transform=transforms.ToTensor()\n",
    "                )\n",
    "\n",
    "test_dataset = torchvision.datasets.MNIST(\n",
    "                    root='./data',\n",
    "                    train=False,\n",
    "                    download=True,\n",
    "                    transform=transforms.ToTensor()\n",
    "                )"
   ]
  },
  {
   "cell_type": "code",
   "execution_count": 3,
   "metadata": {
    "scrolled": true
   },
   "outputs": [
    {
     "data": {
      "image/png": "[encoded data removed]",
      "text/plain": [
       "<Figure size 500x300 with 6 Axes>"
      ]
     },
     "metadata": {},
     "output_type": "display_data"
    }
   ],
   "source": [
    "# Define a function to create a grid of images\n",
    "def create_image_grid(images, labels, rows, cols):\n",
    "    fig, axs = plt.subplots(rows, cols, figsize=(5, 3))\n",
    "    for i in range(rows):\n",
    "        for j in range(cols):\n",
    "            axs[i, j].imshow(images[i*cols+j].squeeze(), cmap='gray')\n",
    "            axs[i, j].set_title(f\"Label: {labels[i*cols+j]}\")\n",
    "            axs[i, j].axis('off')\n",
    "    plt.tight_layout()\n",
    "    plt.show()\n",
    "\n",
    "# Select a random subset of images and labels from the dataset\n",
    "indices = np.random.choice(range(len(train_dataset)), size=6, replace=False)\n",
    "images = [train_dataset[i][0] for i in indices]\n",
    "labels = [train_dataset[i][1] for i in indices]\n",
    "\n",
    "create_image_grid(images, labels, rows=2, cols=3)"
   ]
  },
  {
   "cell_type": "code",
   "execution_count": 4,
   "metadata": {},
   "outputs": [],
   "source": [
    "# hyper parameters\n",
    "input_size = 784 # 28x28\n",
    "hidden_size = 100\n",
    "n_classes = 10\n",
    "n_epochs = 2\n",
    "batch_size = 100\n",
    "learning_rate = 0.01"
   ]
  },
  {
   "cell_type": "code",
   "execution_count": 5,
   "metadata": {},
   "outputs": [],
   "source": [
    "train_loader = DataLoader(\n",
    "    dataset=train_dataset,\n",
    "    batch_size=batch_size,\n",
    "    shuffle=True\n",
    ")\n",
    "\n",
    "test_loader = DataLoader(\n",
    "    dataset=test_dataset,\n",
    "    batch_size=batch_size,\n",
    "    shuffle=True\n",
    ")"
   ]
  },
  {
   "cell_type": "code",
   "execution_count": 6,
   "metadata": {},
   "outputs": [],
   "source": [
    "# network\n",
    "class NeuralNet(nn.Module):\n",
    "    def __init__(self, input_size, hidden_size, n_classes):\n",
    "        super(NeuralNet, self).__init__()\n",
    "        \n",
    "        self.linear_1 = nn.Linear(input_size, hidden_size)\n",
    "        self.linear_2 = nn.Linear(hidden_size, n_classes)\n",
    "        \n",
    "        self.relu = nn.ReLU()\n",
    "    \n",
    "    def forward(self, x):\n",
    "        x = self.relu(self.linear_1(x))\n",
    "        x = self.linear_2(x)\n",
    "        return x"
   ]
  },
  {
   "cell_type": "code",
   "execution_count": 7,
   "metadata": {},
   "outputs": [
    {
     "name": "stdout",
     "output_type": "stream",
     "text": [
      "Using mps device\n"
     ]
    }
   ],
   "source": [
    "# device = torch.device('cuda' if torch.cuda.is_available() else 'cpu')  # for cuda\n",
    "device = torch.device('mps' if torch.backends.mps.is_available() else 'cpu') # for mps\n",
    "print(f'Using {device} device')"
   ]
  },
  {
   "cell_type": "code",
   "execution_count": 8,
   "metadata": {},
   "outputs": [
    {
     "name": "stdout",
     "output_type": "stream",
     "text": [
      "NeuralNet(\n",
      "  (linear_1): Linear(in_features=784, out_features=100, bias=True)\n",
      "  (linear_2): Linear(in_features=100, out_features=10, bias=True)\n",
      "  (relu): ReLU()\n",
      ")\n"
     ]
    }
   ],
   "source": [
    "model = NeuralNet(input_size, hidden_size, n_classes).to(device)\n",
    "print(model)"
   ]
  },
  {
   "cell_type": "code",
   "execution_count": 9,
   "metadata": {},
   "outputs": [],
   "source": [
    "# Initialize the loss function\n",
    "criterion = nn.CrossEntropyLoss()"
   ]
  },
  {
   "cell_type": "code",
   "execution_count": 10,
   "metadata": {},
   "outputs": [],
   "source": [
    "# Initialize the optimizer\n",
    "optimizer = torch.optim.Adam(model.parameters(), lr=learning_rate)"
   ]
  },
  {
   "cell_type": "code",
   "execution_count": 11,
   "metadata": {},
   "outputs": [
    {
     "name": "stdout",
     "output_type": "stream",
     "text": [
      "epoch 1/2, step 100/600, loss = 0.2996\n",
      "epoch 1/2, step 200/600, loss = 0.1134\n",
      "epoch 1/2, step 300/600, loss = 0.2002\n",
      "epoch 1/2, step 400/600, loss = 0.1321\n",
      "epoch 1/2, step 500/600, loss = 0.1352\n",
      "epoch 1/2, step 600/600, loss = 0.1491\n",
      "epoch 2/2, step 100/600, loss = 0.0500\n",
      "epoch 2/2, step 200/600, loss = 0.2123\n",
      "epoch 2/2, step 300/600, loss = 0.0680\n",
      "epoch 2/2, step 400/600, loss = 0.1855\n",
      "epoch 2/2, step 500/600, loss = 0.2896\n",
      "epoch 2/2, step 600/600, loss = 0.1594\n"
     ]
    }
   ],
   "source": [
    "# training loop\n",
    "n_steps = len(train_loader)\n",
    "for epoch in range(n_epochs):\n",
    "    for i, (images, labels) in enumerate(train_loader):\n",
    "        images = images.reshape(images.shape[0], -1).to(device)\n",
    "        labels = labels.to(device)\n",
    "    \n",
    "        # forward pass and loss\n",
    "        outputs = model(images)\n",
    "        loss = criterion(outputs, labels)\n",
    "        \n",
    "        # backward pass and update\n",
    "        optimizer.zero_grad()\n",
    "        loss.backward()\n",
    "        optimizer.step()\n",
    "        \n",
    "        if (i+1)%100 == 0:\n",
    "            print(f'epoch {epoch+1}/{n_epochs}, step {i+1}/{n_steps}, loss = {loss.item():.4f}')\n",
    "        "
   ]
  },
  {
   "cell_type": "code",
   "execution_count": 12,
   "metadata": {},
   "outputs": [
    {
     "name": "stdout",
     "output_type": "stream",
     "text": [
      "accuracy = 96.64\n"
     ]
    }
   ],
   "source": [
    "# test\n",
    "with torch.no_grad():\n",
    "    n_correct = 0\n",
    "    n_samples = 0\n",
    "    for images, labels in test_loader:\n",
    "        images = images.reshape(images.shape[0], -1).to(device)\n",
    "        labels = labels.to(device)\n",
    "        \n",
    "        outputs = model(images)\n",
    "        \n",
    "        # value, index(cls_label)\n",
    "        _, predictions = torch.max(outputs, dim=1)\n",
    "        \n",
    "        n_samples += labels.shape[0]\n",
    "        n_correct += (predictions == labels).sum().item()\n",
    "    \n",
    "    acc = 100.0 * n_correct / n_samples\n",
    "    print(f'accuracy = {acc}')\n",
    "        "
   ]
  },
  {
   "cell_type": "code",
   "execution_count": 13,
   "metadata": {},
   "outputs": [
    {
     "data": {
      "image/png": "[encoded data removed]",
      "text/plain": [
       "<Figure size 640x480 with 1 Axes>"
      ]
     },
     "metadata": {},
     "output_type": "display_data"
    }
   ],
   "source": [
    "# Get a test image from the dataset\n",
    "test_image, test_label = next(iter(test_loader))\n",
    "test_image, test_label = test_image.to(device), test_label.to(device)\n",
    "\n",
    "# Select a single image from the batch\n",
    "image_idx = 0\n",
    "test_image = test_image[image_idx].unsqueeze(0)\n",
    "test_label = test_label[image_idx].unsqueeze(0)\n",
    "\n",
    "# Make a prediction\n",
    "with torch.no_grad():\n",
    "    model.eval()\n",
    "    output = model(test_image.view(-1, 784))\n",
    "    _, predicted = torch.max(output.data, dim=1)\n",
    "\n",
    "# Plot the image with ground truth and predicted labels\n",
    "plt.imshow(test_image.cpu().view(28, 28), cmap='gray')\n",
    "plt.title(f\"Ground Truth Label: {test_label.item()}, Predicted Label: {predicted.item()}\")\n",
    "plt.show()"
   ]
  },
  {
   "cell_type": "code",
   "execution_count": null,
   "metadata": {},
   "outputs": [],
   "source": []
  },
  {
   "cell_type": "code",
   "execution_count": null,
   "metadata": {},
   "outputs": [],
   "source": []
  }
 ],
 "metadata": {
  "interpreter": {
   "hash": "a7fbcb362c17884170783cea08cad3c31ca3c8b08f468badd8233674356d2081"
  },
  "kernelspec": {
   "display_name": "Python 3 (ipykernel)",
   "language": "python",
   "name": "python3"
  },
  "language_info": {
   "codemirror_mode": {
    "name": "ipython",
    "version": 3
   },
   "file_extension": ".py",
   "mimetype": "text/x-python",
   "name": "python",
   "nbconvert_exporter": "python",
   "pygments_lexer": "ipython3",
   "version": "3.9.16"
  }
 },
 "nbformat": 4,
 "nbformat_minor": 2
}
